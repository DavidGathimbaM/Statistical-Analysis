{
 "cells": [
  {
   "cell_type": "markdown",
   "metadata": {},
   "source": [
    "# Data Understanding and Exploration\n",
    "Begin with summary statistics and identifying missing values.\n",
    "\n",
    "## Summary Statistics\n",
    "The dataset contains 21,597 rows and 21 columns.\n",
    "## Key statistics:\n",
    "Price: Mean price is $540,296 with a standard deviation of $367,368. The minimum price is $78,000, and the maximum is $7,700,000.\n",
    "Bedrooms: Mean number of bedrooms is 3.37, with a maximum of 33.\n",
    "Bathrooms: Mean number of bathrooms is 2.11, with a maximum of 8.\n",
    "Square footage of living space (sqft_living): Mean is 2,080 sq. ft., with a range from 370 to 13,540 sq. ft."
   ]
  },
  {
   "cell_type": "markdown",
   "metadata": {},
   "source": []
  }
 ],
 "metadata": {
  "language_info": {
   "name": "python"
  }
 },
 "nbformat": 4,
 "nbformat_minor": 2
}
